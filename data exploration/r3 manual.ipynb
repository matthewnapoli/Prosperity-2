{
 "cells": [
  {
   "cell_type": "code",
   "execution_count": 3,
   "metadata": {},
   "outputs": [
    {
     "name": "stdout",
     "output_type": "stream",
     "text": [
      "[[16.79664067 48.98040784 28.69139258 14.69706059 41.98320672]\n",
      " [32.89013296 57.37131434 60.86956522 55.97201399 24.4926522 ]\n",
      " [51.07956817 62.26886557 69.94404476 62.95593085 11.89762048]\n",
      " [53.87306347 58.07096452 59.47026487 55.27236382 38.48460616]\n",
      " [ 8.39832034 18.8943317  36.38544582 10.49790042 20.99370189]]\n"
     ]
    }
   ],
   "source": [
    "import numpy as np\n",
    "import matplotlib.pyplot as plt\n",
    "\n",
    "treasures = [\n",
    "    [24,70,41,21,60],\n",
    "    [47,82,87,80,35],\n",
    "    [73,89,100,90,17],\n",
    "    [77,83,85,79,55],\n",
    "    [12,27,52,15,30]\n",
    "]\n",
    "\n",
    "hunters = [\n",
    "    [2,4,3,2,4],\n",
    "    [3,5,5,5,3],\n",
    "    [4,5,8,7,2],\n",
    "    [5,5,5,5,4],\n",
    "    [2,3,4,2,3]\n",
    "]\n",
    "\n",
    "treasures = np.array(treasures)\n",
    "hunters = (np.array(hunters))+10000\n",
    "\n",
    "print(np.divide(treasures*7000,hunters))"
   ]
  },
  {
   "cell_type": "code",
   "execution_count": null,
   "metadata": {},
   "outputs": [],
   "source": [
    "plt.imshow(np.divide(treasures,hunters), cmap = \"hot\", interpolation = \"nearest\")\n",
    "plt.show()"
   ]
  }
 ],
 "metadata": {
  "kernelspec": {
   "display_name": "Python 3",
   "language": "python",
   "name": "python3"
  },
  "language_info": {
   "codemirror_mode": {
    "name": "ipython",
    "version": 3
   },
   "file_extension": ".py",
   "mimetype": "text/x-python",
   "name": "python",
   "nbconvert_exporter": "python",
   "pygments_lexer": "ipython3",
   "version": "3.12.1"
  }
 },
 "nbformat": 4,
 "nbformat_minor": 2
}
